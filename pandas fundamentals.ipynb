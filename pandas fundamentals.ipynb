{
 "cells": [
  {
   "cell_type": "markdown",
   "id": "e482f2a0-f08a-483b-8ac7-78d32638e7f4",
   "metadata": {
    "tags": []
   },
   "source": [
    "#pandas datatypes - Series & DataFrame\n",
    "import pandas as pd\n",
    "#numpy datatypes - array & ndarray\n",
    "import numpy as np"
   ]
  },
  {
   "cell_type": "code",
   "execution_count": 4,
   "id": "83c2bcb7-8e60-4152-917f-b6bfd5d506e3",
   "metadata": {},
   "outputs": [],
   "source": [
    "#3 element array\n",
    "my_numpy_array = np.random.rand(3)"
   ]
  },
  {
   "cell_type": "code",
   "execution_count": 7,
   "id": "92feb6c3-1ebf-4b8b-989d-4bff4776cb09",
   "metadata": {},
   "outputs": [],
   "source": [
    "#series always has one column\n",
    "my_first_series = pd.Series(np.random.rand(3))"
   ]
  },
  {
   "cell_type": "code",
   "execution_count": 5,
   "id": "831faf11-82d6-49d1-8f18-c97c0ccd42c3",
   "metadata": {},
   "outputs": [],
   "source": [
    "#2 columns with random numbers\n",
    "my_first_df = pd.DataFrame(np.random.rand(3,2))"
   ]
  }
 ],
 "metadata": {
  "kernelspec": {
   "display_name": "anaconda-panel-2023.05-py310",
   "language": "python",
   "name": "conda-env-anaconda-panel-2023.05-py310-py"
  },
  "language_info": {
   "codemirror_mode": {
    "name": "ipython",
    "version": 3
   },
   "file_extension": ".py",
   "mimetype": "text/x-python",
   "name": "python",
   "nbconvert_exporter": "python",
   "pygments_lexer": "ipython3",
   "version": "3.11.4"
  }
 },
 "nbformat": 4,
 "nbformat_minor": 5
}
